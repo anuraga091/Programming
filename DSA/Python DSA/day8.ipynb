{
 "cells": [
  {
   "cell_type": "code",
   "execution_count": null,
   "metadata": {},
   "outputs": [],
   "source": [
    "#sorting wrt function\n",
    "def f(p):\n",
    "    return p[1]\n",
    "\n",
    "\n",
    "a = [[1, 2], [-1, 2], [5, 7], [9, 10], [6, 5]]\n",
    "x = sorted(a)\n",
    "y = sorted(a, key=f)\n",
    "print(x)\n",
    "print(y)\n"
   ]
  },
  {
   "cell_type": "code",
   "execution_count": 2,
   "metadata": {},
   "outputs": [
    {
     "name": "stdout",
     "output_type": "stream",
     "text": [
      "['1234', '1yt3y73', 'abc', 'hgjdkkr']\n",
      "['abc', '1234', 'hgjdkkr', '1yt3y73']\n"
     ]
    }
   ],
   "source": [
    "#sorting wrt function\n",
    "a = [\"abc\",\"hgjdkkr\",\"1yt3y73\",\"1234\"]\n",
    "x = sorted(a)\n",
    "y = sorted(a, key=len)\n",
    "print(x)\n",
    "print(y)\n"
   ]
  }
 ],
 "metadata": {
  "kernelspec": {
   "display_name": "Python 3.9.13 64-bit (windows store)",
   "language": "python",
   "name": "python3"
  },
  "language_info": {
   "codemirror_mode": {
    "name": "ipython",
    "version": 3
   },
   "file_extension": ".py",
   "mimetype": "text/x-python",
   "name": "python",
   "nbconvert_exporter": "python",
   "pygments_lexer": "ipython3",
   "version": "3.9.13"
  },
  "orig_nbformat": 4,
  "vscode": {
   "interpreter": {
    "hash": "e830fbe63ff05ec27ff8f8674bd11396cec5c70fd40a511c7fedf510ff5da8e3"
   }
  }
 },
 "nbformat": 4,
 "nbformat_minor": 2
}
