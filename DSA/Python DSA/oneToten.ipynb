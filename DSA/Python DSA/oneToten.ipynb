{
 "cells": [
  {
   "cell_type": "code",
   "execution_count": 23,
   "metadata": {},
   "outputs": [
    {
     "name": "stdout",
     "output_type": "stream",
     "text": [
      "[1, 4, 7]\n"
     ]
    }
   ],
   "source": [
    "#Remove Duplicate Element from an array\n",
    "def solve(n, arr):\n",
    "    arr.sort()\n",
    "    arr1 = list(set(arr))\n",
    "    return arr1\n",
    "\n",
    "print(solve(6,[1, 1, 4, 4 ,4, 7]))\n"
   ]
  },
  {
   "cell_type": "code",
   "execution_count": 56,
   "metadata": {},
   "outputs": [
    {
     "name": "stdout",
     "output_type": "stream",
     "text": [
      "False\n",
      "True\n"
     ]
    },
    {
     "ename": "",
     "evalue": "",
     "output_type": "error",
     "traceback": [
      "\u001b[1;31mFailed to interrupt the Kernel. \n",
      "debug session not found. \n",
      "View Jupyter <a href='command:jupyter.viewOutput'>log</a> for further details."
     ]
    }
   ],
   "source": [
    "#Valid Anagram\n",
    "s1 = 'dusty'\n",
    "s2 = 'stuy'\n",
    "for i in s1:\n",
    "    if i in s2:\n",
    "        print(True)\n",
    "    else:\n",
    "        print(False)\n",
    "        \n",
    "    \n",
    "\n",
    "    \n",
    "\n"
   ]
  },
  {
   "cell_type": "code",
   "execution_count": 21,
   "metadata": {},
   "outputs": [
    {
     "name": "stdout",
     "output_type": "stream",
     "text": [
      "[2, 3]\n"
     ]
    }
   ],
   "source": [
    "#MarioKart Devsnest\n",
    "\n",
    "def solve(mat):\n",
    "    # CODE HERE\n",
    "    li1 = []\n",
    "    for i in range (len(mat)):\n",
    "        li1.append(mat[i][1])\n",
    "\n",
    "    s1 = list(set(li1))\n",
    "    s1.sort()\n",
    "    temp=s1[1]\n",
    "\n",
    "    li2 = []\n",
    "\n",
    "    for i in range (len(mat)):\n",
    "        if temp == mat[i][1]:\n",
    "            li2.append(mat[i][0])\n",
    "    li2.sort()\n",
    "    return li2\n",
    "\n",
    "\n",
    "print(solve([[3, 37], [1, 41], [2, 37], [5, 41], [4, 35]]))\n"
   ]
  },
  {
   "cell_type": "code",
   "execution_count": 1,
   "metadata": {},
   "outputs": [
    {
     "name": "stdout",
     "output_type": "stream",
     "text": [
      "[[-1, 2], [1, 2], [5, 7], [6, 5], [9, 10]]\n",
      "[[1, 2], [-1, 2], [6, 5], [5, 7], [9, 10]]\n"
     ]
    }
   ],
   "source": [
    "# s1 = 'dusty'\n",
    "# s2 = 'study'\n",
    "# l1 = list(s1)\n",
    "# l2 = list(s2)\n",
    "\n",
    "\n",
    "# if l1 == l2:\n",
    "#     print (True)\n",
    "# else:\n",
    "#     print(False)\n",
    "\n",
    "\n"
   ]
  },
  {
   "cell_type": "code",
   "execution_count": 1,
   "metadata": {},
   "outputs": [
    {
     "name": "stdout",
     "output_type": "stream",
     "text": [
      "2\n"
     ]
    }
   ],
   "source": [
    "#Missing Number\n",
    "\n",
    "def solve(n, arr):\n",
    "    # CODE HERE\n",
    "    for i in range(0, n+1):\n",
    "        if i not in arr:\n",
    "            return i\n",
    "\n",
    "    \n",
    "\n",
    "print(solve(2,[0,1]))"
   ]
  }
 ],
 "metadata": {
  "kernelspec": {
   "display_name": "Python 3.9.13 64-bit (windows store)",
   "language": "python",
   "name": "python3"
  },
  "language_info": {
   "codemirror_mode": {
    "name": "ipython",
    "version": 3
   },
   "file_extension": ".py",
   "mimetype": "text/x-python",
   "name": "python",
   "nbconvert_exporter": "python",
   "pygments_lexer": "ipython3",
   "version": "3.9.13"
  },
  "orig_nbformat": 4,
  "vscode": {
   "interpreter": {
    "hash": "e830fbe63ff05ec27ff8f8674bd11396cec5c70fd40a511c7fedf510ff5da8e3"
   }
  }
 },
 "nbformat": 4,
 "nbformat_minor": 2
}
