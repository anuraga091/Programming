{
 "cells": [
  {
   "cell_type": "code",
   "execution_count": 37,
   "metadata": {},
   "outputs": [
    {
     "data": {
      "text/plain": [
       "33"
      ]
     },
     "execution_count": 37,
     "metadata": {},
     "output_type": "execute_result"
    }
   ],
   "source": [
    "def calc_Sum(arr,  n, brr, m):\n",
    "     #Complete the function\n",
    "    sum1 = ''\n",
    "    sum2 = ''\n",
    "    \n",
    "    for i in range(len(arr)):\n",
    "        sum1 = sum1+str(arr[i])\n",
    "        s1 = int(sum1)\n",
    "    for j in range(len(arr)):\n",
    "        sum2 = sum2 + str(brr[j])\n",
    "        s2 = int(sum2)\n",
    "    return (s1+s2)\n",
    "\n",
    "calc_Sum([1,2],2,[2,1],2)"
   ]
  },
  {
   "cell_type": "code",
   "execution_count": 38,
   "metadata": {},
   "outputs": [
    {
     "name": "stdout",
     "output_type": "stream",
     "text": [
      "Min element is 1000\n",
      "Max element is 1000\n"
     ]
    },
    {
     "ename": "IndexError",
     "evalue": "list index out of range",
     "output_type": "error",
     "traceback": [
      "\u001b[1;31m---------------------------------------------------------------------------\u001b[0m",
      "\u001b[1;31mIndexError\u001b[0m                                Traceback (most recent call last)",
      "\u001b[1;32md:\\Programming\\DSA\\Python DSA\\minmax.ipynb Cell 2'\u001b[0m in \u001b[0;36m<cell line: 23>\u001b[1;34m()\u001b[0m\n\u001b[0;32m     <a href='vscode-notebook-cell:/d%3A/Programming/DSA/Python%20DSA/minmax.ipynb#ch0000001?line=18'>19</a>\u001b[0m     \u001b[39mprint\u001b[39m(\u001b[39m'\u001b[39m\u001b[39mMin element is\u001b[39m\u001b[39m'\u001b[39m, \u001b[39mmin\u001b[39m)\n\u001b[0;32m     <a href='vscode-notebook-cell:/d%3A/Programming/DSA/Python%20DSA/minmax.ipynb#ch0000001?line=19'>20</a>\u001b[0m     \u001b[39mprint\u001b[39m(\u001b[39m'\u001b[39m\u001b[39mMax element is\u001b[39m\u001b[39m'\u001b[39m, \u001b[39mmax\u001b[39m)\n\u001b[1;32m---> <a href='vscode-notebook-cell:/d%3A/Programming/DSA/Python%20DSA/minmax.ipynb#ch0000001?line=22'>23</a>\u001b[0m getMinMax([\u001b[39m1000\u001b[39;49m],\u001b[39m1\u001b[39;49m)\n",
      "\u001b[1;32md:\\Programming\\DSA\\Python DSA\\minmax.ipynb Cell 2'\u001b[0m in \u001b[0;36mgetMinMax\u001b[1;34m(arr, n)\u001b[0m\n\u001b[0;32m      <a href='vscode-notebook-cell:/d%3A/Programming/DSA/Python%20DSA/minmax.ipynb#ch0000001?line=4'>5</a>\u001b[0m     \u001b[39mprint\u001b[39m(\u001b[39m'\u001b[39m\u001b[39mMin element is\u001b[39m\u001b[39m'\u001b[39m, \u001b[39mmin\u001b[39m)\n\u001b[0;32m      <a href='vscode-notebook-cell:/d%3A/Programming/DSA/Python%20DSA/minmax.ipynb#ch0000001?line=5'>6</a>\u001b[0m     \u001b[39mprint\u001b[39m(\u001b[39m'\u001b[39m\u001b[39mMax element is\u001b[39m\u001b[39m'\u001b[39m, \u001b[39mmax\u001b[39m)\n\u001b[1;32m----> <a href='vscode-notebook-cell:/d%3A/Programming/DSA/Python%20DSA/minmax.ipynb#ch0000001?line=7'>8</a>\u001b[0m \u001b[39mif\u001b[39;00m arr[\u001b[39m0\u001b[39m] \u001b[39m>\u001b[39m arr[\u001b[39m1\u001b[39;49m]:\n\u001b[0;32m      <a href='vscode-notebook-cell:/d%3A/Programming/DSA/Python%20DSA/minmax.ipynb#ch0000001?line=8'>9</a>\u001b[0m     \u001b[39mmax\u001b[39m \u001b[39m=\u001b[39m arr[\u001b[39m0\u001b[39m]\n\u001b[0;32m     <a href='vscode-notebook-cell:/d%3A/Programming/DSA/Python%20DSA/minmax.ipynb#ch0000001?line=9'>10</a>\u001b[0m     \u001b[39mmin\u001b[39m \u001b[39m=\u001b[39m arr[\u001b[39m1\u001b[39m]\n",
      "\u001b[1;31mIndexError\u001b[0m: list index out of range"
     ]
    }
   ],
   "source": [
    "def getMinMax(arr, n):\n",
    "    if n == 1:\n",
    "        max = arr[0]\n",
    "        min = arr [0]\n",
    "        print('Min element is', min)\n",
    "        print('Max element is', max)\n",
    "    \n",
    "    if arr[0] > arr[1]:\n",
    "        max = arr[0]\n",
    "        min = arr[1]\n",
    "    else:\n",
    "        max = arr[1]\n",
    "        min = arr[0]\n",
    "    for i in range(2,n):\n",
    "        if arr[i] > max:\n",
    "            max = arr[i]\n",
    "        elif arr[i] < min:\n",
    "            min = arr[i]\n",
    "    print('Min element is', min)\n",
    "    print('Max element is', max)\n",
    "\n",
    "\n",
    "getMinMax([1000],1)\n",
    "        \n"
   ]
  }
 ],
 "metadata": {
  "kernelspec": {
   "display_name": "Python 3.9.13 64-bit (windows store)",
   "language": "python",
   "name": "python3"
  },
  "language_info": {
   "codemirror_mode": {
    "name": "ipython",
    "version": 3
   },
   "file_extension": ".py",
   "mimetype": "text/x-python",
   "name": "python",
   "nbconvert_exporter": "python",
   "pygments_lexer": "ipython3",
   "version": "3.9.13"
  },
  "orig_nbformat": 4,
  "vscode": {
   "interpreter": {
    "hash": "e830fbe63ff05ec27ff8f8674bd11396cec5c70fd40a511c7fedf510ff5da8e3"
   }
  }
 },
 "nbformat": 4,
 "nbformat_minor": 2
}
